{
  "cells": [
    {
      "cell_type": "code",
      "source": [
        "# %cd /content/drive/MyDrive/colab/gen"
      ],
      "metadata": {
        "id": "TrkwNj5Tr0Qq"
      },
      "execution_count": null,
      "outputs": []
    },
    {
      "cell_type": "markdown",
      "source": [
        "## Note:\n",
        "The following steps include:\n",
        "- Setup Environment  \n",
        "    - ***If there is a numpy 2.x dependency issue, you can ignore it.***\n",
        "- Restart Colab Runtime  \n",
        "    - ***Important!***\n",
        "- Prepare Code and Models  \n",
        "- Inference and Display  "
      ],
      "metadata": {
        "id": "UXEDUgKdZETY"
      }
    },
    {
      "cell_type": "markdown",
      "source": [
        "## Setup Environment"
      ],
      "metadata": {
        "id": "vjynPPFCYYMg"
      }
    },
    {
      "cell_type": "markdown",
      "source": [
        "### show gpu info"
      ],
      "metadata": {
        "id": "8K-2slSUULj1"
      }
    },
    {
      "cell_type": "code",
      "source": [
        "!nvidia-smi --query-gpu=name,memory.total,memory.free --format=csv,noheader\n",
        "!pwd\n",
        "!ls"
      ],
      "metadata": {
        "id": "KgCi6NxGUTr6"
      },
      "execution_count": null,
      "outputs": []
    },
    {
      "cell_type": "markdown",
      "source": [
        "### check torch"
      ],
      "metadata": {
        "id": "JFwShY0SSpKr"
      }
    },
    {
      "cell_type": "code",
      "source": [
        "import torch\n",
        "torch.__version__"
      ],
      "metadata": {
        "id": "JhdOnbTNSnj7"
      },
      "execution_count": null,
      "outputs": []
    },
    {
      "cell_type": "markdown",
      "source": [
        "### install packages"
      ],
      "metadata": {
        "id": "8Ux56aUnSyzd"
      }
    },
    {
      "cell_type": "code",
      "source": [
        "# about 0.5~1min\n",
        "!pip install tensorrt==8.6.1 librosa tqdm filetype imageio opencv_python_headless scikit-image cython cuda-python imageio-ffmpeg colored polygraphy numpy==2.0.1"
      ],
      "metadata": {
        "id": "auE5eVqCSnBx"
      },
      "execution_count": null,
      "outputs": []
    },
    {
      "cell_type": "markdown",
      "source": [
        "### restart runtime"
      ],
      "metadata": {
        "id": "c-hcMYRsTexu"
      }
    },
    {
      "cell_type": "code",
      "source": [
        "# !!!\n",
        "# You need to restart the runtime to ensure that the newly installed environment takes effect\n",
        "# !!!\n",
        "import os\n",
        "os.kill(os.getpid(), 9)"
      ],
      "metadata": {
        "id": "CnU-NrlsS8LQ"
      },
      "execution_count": null,
      "outputs": []
    },
    {
      "cell_type": "code",
      "source": [
        "# %cd /content/drive/MyDrive/colab/gen\n",
        "!ls"
      ],
      "metadata": {
        "id": "EEVhFj4YDRqv"
      },
      "execution_count": null,
      "outputs": []
    },
    {
      "cell_type": "markdown",
      "source": [
        "### check environment"
      ],
      "metadata": {
        "id": "gBTPG7bRT0sM"
      }
    },
    {
      "cell_type": "code",
      "source": [
        "import numpy as np\n",
        "import torch\n",
        "import tensorrt as trt\n",
        "print(np.__version__)\n",
        "print(torch.__version__)\n",
        "print(trt.__version__)"
      ],
      "metadata": {
        "id": "BX9cqefNTzy1"
      },
      "execution_count": null,
      "outputs": []
    },
    {
      "cell_type": "markdown",
      "source": [
        "## Prepare Code and Models"
      ],
      "metadata": {
        "id": "uavpfUqbYqdq"
      }
    },
    {
      "cell_type": "markdown",
      "source": [
        "### prepare code"
      ],
      "metadata": {
        "id": "aDkcDaetUZyr"
      }
    },
    {
      "cell_type": "code",
      "execution_count": null,
      "metadata": {
        "id": "Gfs0_VEyJm4u"
      },
      "outputs": [],
      "source": [
        "# about 2s\n",
        "import os\n",
        "if not os.path.isdir(\"ditto-talkinghead\"):\n",
        "    !git clone https://github.com/antgroup/ditto-talkinghead.git\n",
        "\n",
        "%cd ditto-talkinghead\n",
        "!git pull\n",
        "!ls"
      ]
    },
    {
      "cell_type": "markdown",
      "source": [
        "### prepare model"
      ],
      "metadata": {
        "id": "6DA4nImZUfPb"
      }
    },
    {
      "cell_type": "code",
      "source": [
        "# about 1~2min\n",
        "!git lfs install\n",
        "if not os.path.isdir(\"checkpoints\"):\n",
        "    !git clone https://huggingface.co/digital-avatar/ditto-talkinghead checkpoints\n",
        "\n",
        "%cd checkpoints\n",
        "!git pull\n",
        "!ls\n",
        "\n",
        "%cd ..\n",
        "!ls"
      ],
      "metadata": {
        "id": "Gf54LtAfQ890"
      },
      "execution_count": null,
      "outputs": []
    },
    {
      "cell_type": "markdown",
      "source": [
        "### check GPU architecture"
      ],
      "metadata": {
        "id": "FTuJfoveUmsF"
      }
    },
    {
      "cell_type": "code",
      "execution_count": null,
      "metadata": {
        "id": "_OB8Hcg6xXyZ"
      },
      "outputs": [],
      "source": [
        "# about 1~2min\n",
        "import os\n",
        "import torch\n",
        "\n",
        "def cvt_custom_trt():\n",
        "    from scripts.cvt_onnx_to_trt import main as cvt_trt\n",
        "    onnx_dir = \"./checkpoints/ditto_onnx\"\n",
        "    trt_dir = \"./checkpoints/ditto_trt_custom\"\n",
        "    assert os.path.isdir(onnx_dir)\n",
        "    os.makedirs(trt_dir, exist_ok=True)\n",
        "    grid_sample_plugin_file = os.path.join(onnx_dir, \"libgrid_sample_3d_plugin.so\")\n",
        "    cvt_trt(onnx_dir, trt_dir, grid_sample_plugin_file)\n",
        "    return trt_dir\n",
        "\n",
        "\n",
        "def download_Non_Ampere_trt():\n",
        "    !pip install --upgrade --no-cache-dir gdown\n",
        "    !gdown https://drive.google.com/drive/folders/1-1qnqy0D9ICgRh8iNY_22j9ieNRC0-zf?usp=sharing -O ./checkpoints/ditto_trt --folder\n",
        "    trt_dir = \"./checkpoints/ditto_trt\"\n",
        "    return trt_dir\n",
        "\n",
        "\n",
        "if torch.cuda.get_device_capability()[0] < 8:\n",
        "    # data_root = cvt_custom_trt()    # cvt\n",
        "    # The conversion is slow, so you can download pre-converted files.\n",
        "    data_root = download_Non_Ampere_trt()\n",
        "else:\n",
        "    data_root = \"./checkpoints/ditto_trt_Ampere_Plus\""
      ]
    },
    {
      "cell_type": "markdown",
      "source": [
        "## Inference"
      ],
      "metadata": {
        "id": "wFNuRUa3Y1gu"
      }
    },
    {
      "cell_type": "markdown",
      "source": [
        "### run inference"
      ],
      "metadata": {
        "id": "VZyDsSITWhtK"
      }
    },
    {
      "cell_type": "code",
      "source": [
        "# init, about 10s\n",
        "from inference import StreamSDK, run\n",
        "# data_root = \"./checkpoints/ditto_trt_custom\"   # model dir\n",
        "cfg_pkl = \"./checkpoints/ditto_cfg/v0.4_hubert_cfg_trt.pkl\"     # cfg pkl\n",
        "print(data_root)\n",
        "print(cfg_pkl)\n",
        "SDK = StreamSDK(cfg_pkl, data_root)"
      ],
      "metadata": {
        "id": "e2XiC3zjWv54"
      },
      "execution_count": null,
      "outputs": []
    },
    {
      "cell_type": "code",
      "source": [
        "# run inference, about 1~2min\n",
        "audio_path = \"./example/audio.wav\"    # .wav\n",
        "source_path = \"./example/image.png\"   # video|image\n",
        "output_path = \"./tmp/result.mp4\"    # .mp4\n",
        "\n",
        "run(SDK, audio_path, source_path, output_path)"
      ],
      "metadata": {
        "id": "pHy8UthkW0mp"
      },
      "execution_count": null,
      "outputs": []
    },
    {
      "cell_type": "markdown",
      "source": [
        "### display result"
      ],
      "metadata": {
        "id": "MSnGPdztwUHd"
      }
    },
    {
      "cell_type": "code",
      "source": [
        "# display, about 5~10s\n",
        "from IPython.display import HTML\n",
        "from base64 import b64encode\n",
        "import os, sys\n",
        "import glob\n",
        "\n",
        "mp4_name = output_path\n",
        "\n",
        "mp4 = open('{}'.format(mp4_name),'rb').read()\n",
        "data_url = \"data:video/mp4;base64,\" + b64encode(mp4).decode()\n",
        "\n",
        "print('Display animation: {}'.format(mp4_name), file=sys.stderr)\n",
        "display(HTML(\"\"\"\n",
        "  <video width=256 controls>\n",
        "        <source src=\"%s\" type=\"video/mp4\">\n",
        "  </video>\n",
        "  \"\"\" % data_url))"
      ],
      "metadata": {
        "id": "EB1UVFpIwTNG"
      },
      "execution_count": null,
      "outputs": []
    }
  ],
  "metadata": {
    "accelerator": "GPU",
    "colab": {
      "gpuType": "T4",
      "provenance": []
    },
    "kernelspec": {
      "display_name": "Python 3",
      "name": "python3"
    },
    "language_info": {
      "name": "python"
    }
  },
  "nbformat": 4,
  "nbformat_minor": 0
}